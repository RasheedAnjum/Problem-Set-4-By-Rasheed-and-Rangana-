{
 "cells": [
  {
   "cell_type": "code",
   "execution_count": 2,
   "id": "ecb3cf33-ac4e-4fc3-8a2a-5e1fda8954e3",
   "metadata": {
    "tags": []
   },
   "outputs": [],
   "source": [
    "import urllib.request, urllib.parse, urllib.error\n",
    "import json\n",
    "\n"
   ]
  },
  {
   "cell_type": "code",
   "execution_count": 3,
   "id": "54ee2533-b161-411a-a3bb-64560c57a1f7",
   "metadata": {},
   "outputs": [
    {
     "name": "stdout",
     "output_type": "stream",
     "text": [
      "The data is collected from  https://rickandmortyapi.com/api/character\n"
     ]
    }
   ],
   "source": [
    "url= 'https://rickandmortyapi.com/api/character'\n",
    "uh = urllib.request.urlopen(url)\n",
    "data = uh.read().decode()\n",
    "print(\"The data is collected from \",url)\n"
   ]
  },
  {
   "cell_type": "code",
   "execution_count": 4,
   "id": "778120bf-177a-4284-bdd8-8a68049979ca",
   "metadata": {},
   "outputs": [],
   "source": [
    "try:\n",
    "    pr= json.loads(data)\n",
    "except:\n",
    "    pr= None\n",
    "\n"
   ]
  },
  {
   "cell_type": "code",
   "execution_count": 12,
   "id": "682addeb-263d-437b-83d4-7f63137165d6",
   "metadata": {},
   "outputs": [
    {
     "name": "stdout",
     "output_type": "stream",
     "text": [
      "Rick Sanchez has been in the highest number of episodes which is 51 episodes and Abadango Cluster Princess has been in the least number of episodes which is 1\n"
     ]
    }
   ],
   "source": [
    "#This function lets the user look for the characters that has been in the highest number of episodes as well as find the character that has been in the least number episodes.\n",
    "def episodes():\n",
    "    x=0\n",
    "    y=100\n",
    "    for i in pr['results']:\n",
    "        v = len(i['episode'])\n",
    "        if v > x:\n",
    "            x = v\n",
    "            name = i['name']\n",
    "        elif v < y: \n",
    "            y=v\n",
    "            N = i['name']\n",
    "    print(name,\"has been in the highest number of episodes which is\",x,\"episodes and\", N, \"has been in the least number of episodes which is\",y)\n",
    "episodes()"
   ]
  },
  {
   "cell_type": "code",
   "execution_count": null,
   "id": "02cea2fb-33eb-4324-aac1-027b1f4e2cd2",
   "metadata": {},
   "outputs": [],
   "source": []
  },
  {
   "cell_type": "code",
   "execution_count": null,
   "id": "295e8f64-627f-4613-bef9-52bbd4691576",
   "metadata": {},
   "outputs": [],
   "source": []
  }
 ],
 "metadata": {
  "kernelspec": {
   "display_name": "Python 3 (ipykernel)",
   "language": "python",
   "name": "python3"
  },
  "language_info": {
   "codemirror_mode": {
    "name": "ipython",
    "version": 3
   },
   "file_extension": ".py",
   "mimetype": "text/x-python",
   "name": "python",
   "nbconvert_exporter": "python",
   "pygments_lexer": "ipython3",
   "version": "3.8.1"
  }
 },
 "nbformat": 4,
 "nbformat_minor": 5
}
